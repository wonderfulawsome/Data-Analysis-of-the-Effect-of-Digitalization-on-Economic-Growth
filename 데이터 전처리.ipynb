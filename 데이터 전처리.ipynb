{
 "cells": [
  {
   "cell_type": "code",
   "execution_count": 1,
   "metadata": {},
   "outputs": [],
   "source": [
    "import pandas as pd\n",
    "\n",
    "# Excel 파일 읽기\n",
    "df = pd.read_excel('C:/Users/82106/Desktop/디지털화의 경제 영향도/데이터/Data base International Panel Data Analysis of the Effect of Digitalization on Economic Growth.xlsx')"
   ]
  },
  {
   "cell_type": "code",
   "execution_count": 2,
   "metadata": {},
   "outputs": [
    {
     "name": "stdout",
     "output_type": "stream",
     "text": [
      "ID와 국가 매핑 정보:\n",
      "{1: 'Pays Bas', 2: 'Suède', 3: 'Danemark', 4: 'Finlande', 5: 'Suisse', 6: 'Allemagne', 7: 'Norvège', 8: 'UK', 9: 'France', 10: 'Autriche', 11: 'Luxembourg', 12: 'Belgique', 13: 'Irlande', 14: 'Estonie', 15: 'Israël', 16: 'Espagne', 17: 'République tchèque', 18: 'Islande', 19: 'Slovénie', 20: 'Malte', 21: 'Italie', 22: 'Lituanie', 23: 'Portugal', 24: 'Pologne', 25: 'Slovaquie', 26: 'Lettonie', 27: 'Hongrie', 28: 'Chypre', 29: 'Croatie', 30: 'Grèce', 31: 'Roumanie', 32: 'Etats Unis', 33: 'Canada', 34: 'Chili', 37: 'Trinité et Tobago', 38: 'Singapour', 39: 'Corée du sud', 40: 'Australie', 41: 'Japon', 42: 'Nouvelle Zélande', 43: 'Hong Kong', 44: 'Maurice', 45: 'Emirtas Arabes Unis', 46: 'Arabie Saoudite', 47: 'Qatar', 48: 'Oman', 49: 'Bahrein', 50: 'Koweit', 51: 'Turquie', 52: 'Bulgarie', 53: 'Serbie', 54: 'Monténégro', 55: 'Macédoine du nord', 56: 'Géorgie', 57: 'Albanie', 58: 'Bosnie Herzégovine', 59: 'Brésil', 60: 'Costa Rica', 61: 'Argentine', 62: 'Mexique', 63: 'Colombie', 64: 'Pérou', 65: 'Jamaique', 66: 'République dominicaine', 68: 'Equateur', 70: 'Chine', 71: 'Malaisie', 72: 'Thaïlande', 73: 'Indonésie', 74: 'Iran', 75: 'Afrique du Sud', 77: 'Namibie', 78: 'Jordan', 79: 'Liban', 80: 'Russie', 81: 'Arménie', 83: 'Azerbaïdjan', 85: 'Moldavie', 86: 'Bolivie', 87: 'Salvador', 89: 'Viêt Nam', 90: 'Inde', 92: 'Philippines', 93: 'Mongolie', 94: 'Bengladesh', 95: 'Pakistan', 96: 'Cambodge', 97: 'Laos', 98: 'Népal', 99: 'Kenya', 100: 'Cap-Vert', 101: 'Ghana', 102: 'Sénégal', 103: 'Nigeria', 104: 'Tanzanie', 105: \"Côte d'Ivoire\", 106: 'Zambie', 107: 'Cameroun', 108: 'Eswatini', 109: 'Zimbabwe', 110: 'Lesotho', 111: 'Angola', 112: 'Egypte', 113: 'Maroc', 114: 'Tunisie', 115: 'Algerie', 116: 'Kirghizistan', 117: 'Rwanda', 118: 'Gambie', 119: 'Ouganda', 120: 'Burkina Faso', 121: 'Mali', 122: 'Malawi', 123: 'Madagascar', 124: 'Guinée', 125: 'Mozambique', 126: 'Ethiopie', 127: 'Burundi', 128: 'Congo', 129: 'Tchad', 130: 'Tadjikistan'}\n"
     ]
    }
   ],
   "source": [
    "# ID와 국가 매핑 정보 추출\n",
    "country_mapping = df[['id', 'Unnamed: 4']].dropna().drop_duplicates()\n",
    "country_mapping = country_mapping.set_index('id')['Unnamed: 4'].to_dict()\n",
    "\n",
    "# 매핑 결과 확인\n",
    "print(\"ID와 국가 매핑 정보:\")\n",
    "print(country_mapping)"
   ]
  },
  {
   "cell_type": "code",
   "execution_count": 3,
   "metadata": {},
   "outputs": [],
   "source": [
    "# F열까지 제거하고 새로운 데이터프레임 생성\n",
    "df_new = df.iloc[:, 6:].copy()\n",
    "\n",
    "# ID 열 추출\n",
    "id_column = df.iloc[:, 7]"
   ]
  },
  {
   "cell_type": "code",
   "execution_count": 4,
   "metadata": {},
   "outputs": [
    {
     "name": "stdout",
     "output_type": "stream",
     "text": [
      "          Country   id  Year   INCOME       LGDP  \\\n",
      "0        Pays Bas    1   2000       1  10.607994   \n",
      "1        Pays Bas    1   2001       1  10.623448   \n",
      "2        Pays Bas    1   2002       1  10.619236   \n",
      "3        Pays Bas    1   2003       1  10.616073   \n",
      "4        Pays Bas    1   2004       1  10.632253   \n",
      "...           ...  ...    ...     ...        ...   \n",
      "2725  Tadjikistan  130   2016       4   6.928162   \n",
      "2726  Tadjikistan  130   2017       4   6.972050   \n",
      "2727  Tadjikistan  130   2018       4   7.020765   \n",
      "2728  Tadjikistan  130   2019       4   7.068250   \n",
      "2729  Tadjikistan  130   2020       4   7.089293   \n",
      "\n",
      "      FPS : Fixed Phone Subscriptions  MPS: Mobile Phone Subscriptions  \\\n",
      "0                            0.620927                         0.675303   \n",
      "1                            0.509298                         0.685303   \n",
      "2                            0.498189                         0.695303   \n",
      "3                            0.484293                         0.705303   \n",
      "4                            0.482649                         0.715303   \n",
      "...                               ...                              ...   \n",
      "2725                         0.054019                         1.085002   \n",
      "2726                         0.053940                         1.115282   \n",
      "2727                         0.053940                         1.098800   \n",
      "2728                         0.053857                         1.179592   \n",
      "2729                         0.052634                         1.214556   \n",
      "\n",
      "      BBS: Broadband Subscription  IU: Internet use       DDI  \\\n",
      "0                        0.016325           0.439844  0.39172   \n",
      "1                        0.026325           0.449844  0.26795   \n",
      "2                        0.036325           0.459844  0.29133   \n",
      "3                        0.046325           0.469844  0.31063   \n",
      "4                        0.056325           0.479844  0.34787   \n",
      "...                           ...                ...      ...   \n",
      "2725                     0.000693           0.204700 -0.49949   \n",
      "2726                     0.000676           0.219600 -0.46405   \n",
      "2727                     0.000676           0.219600 -0.47398   \n",
      "2728                     0.000644           0.219600 -0.42550   \n",
      "2729                     0.000629           0.219600 -0.40626   \n",
      "\n",
      "      GFCF: Gross Fixed Capital Formation   TO: Trade Openness  (expbs+Impbs)  \\\n",
      "0                                 0.225702                           1.255219   \n",
      "1                                 0.235702                           1.275219   \n",
      "2                                 0.245702                           1.295219   \n",
      "3                                 0.255702                           1.315219   \n",
      "4                                 0.265702                           1.335219   \n",
      "...                                    ...                                ...   \n",
      "2725                              0.405223                           0.546072   \n",
      "2726                              0.299296                           0.537863   \n",
      "2727                              0.372634                           0.558461   \n",
      "2728                              0.353887                           0.560450   \n",
      "2729                              0.247614                           0.552715   \n",
      "\n",
      "      Labor (Hlabor+Flabor)  LCPI: Consumers Price Index   LPOP: Poplulation   \\\n",
      "0                   1.27381                      4.406078           16.583433   \n",
      "1                   1.28668                      4.446796           16.590981   \n",
      "2                   1.30062                      4.479143           16.597364   \n",
      "3                   1.29774                      4.499847           16.602082   \n",
      "4                   1.30060                      4.512404           16.605557   \n",
      "...                     ...                           ...                 ...   \n",
      "2725                0.84793                      5.001040           15.974638   \n",
      "2726                0.83706                      5.001040           15.999343   \n",
      "2727                0.82710                      5.001040           16.023878   \n",
      "2728                0.81783                      5.001040           16.047783   \n",
      "2729                0.81018                      5.001040           16.070757   \n",
      "\n",
      "      consum: Government Consuption         RD  \n",
      "0                           0.364773  0.017898  \n",
      "1                           0.369977  0.017961  \n",
      "2                           0.372896  0.017454  \n",
      "3                           0.382046  0.017839  \n",
      "4                           0.374042  0.017890  \n",
      "...                              ...       ...  \n",
      "2725                        0.137474  0.001068  \n",
      "2726                        0.137474  0.001154  \n",
      "2727                        0.137474  0.000970  \n",
      "2728                        0.137474  0.000970  \n",
      "2729                        0.137474  0.000970  \n",
      "\n",
      "[2730 rows x 17 columns]\n"
     ]
    }
   ],
   "source": [
    "#  ud를 기반으로 국가명으로 변경하여 첫번째 열에 삽입\n",
    "df_new.insert(0,'Country',id_column.map(country_mapping))\n",
    "\n",
    "# year 열이 이미 있으므로 G열은 삭제\n",
    "df_new= df_new.drop(df_new.columns[1],axis=1)\n",
    "\n",
    "print(df_new)"
   ]
  },
  {
   "cell_type": "code",
   "execution_count": 5,
   "metadata": {},
   "outputs": [],
   "source": [
    "df_new[\"LCPI: Consumers Price Index \"].fillna(method='ffill', inplace=True)"
   ]
  },
  {
   "cell_type": "code",
   "execution_count": 6,
   "metadata": {},
   "outputs": [],
   "source": [
    "# 칼럼명 단순화를 위한 rename 메소드\n",
    "df_renamed = df_new.rename(columns={\n",
    "    'GFCF: Gross Fixed Capital Formation ': 'GFCF',\n",
    "    'FPS : Fixed Phone Subscriptions': 'FPS',\n",
    "    'MPS: Mobile Phone Subscriptions': 'MPS',\n",
    "    'BBS: Broadband Subscription': 'BBS',\n",
    "    'IU: Internet use ': 'IU',\n",
    "    'TO: Trade Openness  (expbs+Impbs)': 'TO',\n",
    "    'LCPI: Consumers Price Index ': 'LCPI',\n",
    "    'LPOP: Poplulation ': 'LPOP',\n",
    "    'consum: Government Consuption ': 'CONSUM',\n",
    "    'Labor (Hlabor+Flabor)' : 'Labor'\n",
    "})"
   ]
  },
  {
   "cell_type": "markdown",
   "metadata": {},
   "source": [
    "### csv파일로 저장"
   ]
  },
  {
   "cell_type": "code",
   "execution_count": 8,
   "metadata": {},
   "outputs": [],
   "source": [
    "output_path = 'C:/Users/82106/Desktop/디지털화의 경제 영향도/데이터/processed_digitalization_data.csv'\n",
    "\n",
    "df_renamed.to_csv(output_path, index = False, encoding='utf-8-sig')"
   ]
  },
  {
   "cell_type": "code",
   "execution_count": null,
   "metadata": {},
   "outputs": [],
   "source": []
  }
 ],
 "metadata": {
  "kernelspec": {
   "display_name": "base",
   "language": "python",
   "name": "python3"
  },
  "language_info": {
   "codemirror_mode": {
    "name": "ipython",
    "version": 3
   },
   "file_extension": ".py",
   "mimetype": "text/x-python",
   "name": "python",
   "nbconvert_exporter": "python",
   "pygments_lexer": "ipython3",
   "version": "3.9.12"
  }
 },
 "nbformat": 4,
 "nbformat_minor": 2
}
