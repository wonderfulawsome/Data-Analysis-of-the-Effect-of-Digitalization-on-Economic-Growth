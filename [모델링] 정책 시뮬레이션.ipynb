{
 "cells": [
  {
   "cell_type": "code",
   "execution_count": 60,
   "metadata": {},
   "outputs": [
    {
     "data": {
      "text/html": [
       "<div>\n",
       "<style scoped>\n",
       "    .dataframe tbody tr th:only-of-type {\n",
       "        vertical-align: middle;\n",
       "    }\n",
       "\n",
       "    .dataframe tbody tr th {\n",
       "        vertical-align: top;\n",
       "    }\n",
       "\n",
       "    .dataframe thead th {\n",
       "        text-align: right;\n",
       "    }\n",
       "</style>\n",
       "<table border=\"1\" class=\"dataframe\">\n",
       "  <thead>\n",
       "    <tr style=\"text-align: right;\">\n",
       "      <th></th>\n",
       "      <th>Country</th>\n",
       "      <th>id</th>\n",
       "      <th>Year</th>\n",
       "      <th>INCOME</th>\n",
       "      <th>LGDP</th>\n",
       "      <th>FPS</th>\n",
       "      <th>MPS</th>\n",
       "      <th>BBS</th>\n",
       "      <th>IU</th>\n",
       "      <th>DDI</th>\n",
       "      <th>GFCF</th>\n",
       "      <th>TO</th>\n",
       "      <th>Labor</th>\n",
       "      <th>LCPI</th>\n",
       "      <th>LPOP</th>\n",
       "      <th>CONSUM</th>\n",
       "      <th>RD</th>\n",
       "    </tr>\n",
       "  </thead>\n",
       "  <tbody>\n",
       "    <tr>\n",
       "      <th>0</th>\n",
       "      <td>Pays Bas</td>\n",
       "      <td>1</td>\n",
       "      <td>2000</td>\n",
       "      <td>1</td>\n",
       "      <td>10.607994</td>\n",
       "      <td>0.620927</td>\n",
       "      <td>0.675303</td>\n",
       "      <td>0.016325</td>\n",
       "      <td>0.439844</td>\n",
       "      <td>0.39172</td>\n",
       "      <td>0.225702</td>\n",
       "      <td>1.255219</td>\n",
       "      <td>1.27381</td>\n",
       "      <td>4.406078</td>\n",
       "      <td>16.583433</td>\n",
       "      <td>0.364773</td>\n",
       "      <td>0.017898</td>\n",
       "    </tr>\n",
       "    <tr>\n",
       "      <th>1</th>\n",
       "      <td>Pays Bas</td>\n",
       "      <td>1</td>\n",
       "      <td>2001</td>\n",
       "      <td>1</td>\n",
       "      <td>10.623448</td>\n",
       "      <td>0.509298</td>\n",
       "      <td>0.685303</td>\n",
       "      <td>0.026325</td>\n",
       "      <td>0.449844</td>\n",
       "      <td>0.26795</td>\n",
       "      <td>0.235702</td>\n",
       "      <td>1.275219</td>\n",
       "      <td>1.28668</td>\n",
       "      <td>4.446796</td>\n",
       "      <td>16.590981</td>\n",
       "      <td>0.369977</td>\n",
       "      <td>0.017961</td>\n",
       "    </tr>\n",
       "    <tr>\n",
       "      <th>2</th>\n",
       "      <td>Pays Bas</td>\n",
       "      <td>1</td>\n",
       "      <td>2002</td>\n",
       "      <td>1</td>\n",
       "      <td>10.619236</td>\n",
       "      <td>0.498189</td>\n",
       "      <td>0.695303</td>\n",
       "      <td>0.036325</td>\n",
       "      <td>0.459844</td>\n",
       "      <td>0.29133</td>\n",
       "      <td>0.245702</td>\n",
       "      <td>1.295219</td>\n",
       "      <td>1.30062</td>\n",
       "      <td>4.479143</td>\n",
       "      <td>16.597364</td>\n",
       "      <td>0.372896</td>\n",
       "      <td>0.017454</td>\n",
       "    </tr>\n",
       "    <tr>\n",
       "      <th>3</th>\n",
       "      <td>Pays Bas</td>\n",
       "      <td>1</td>\n",
       "      <td>2003</td>\n",
       "      <td>1</td>\n",
       "      <td>10.616073</td>\n",
       "      <td>0.484293</td>\n",
       "      <td>0.705303</td>\n",
       "      <td>0.046325</td>\n",
       "      <td>0.469844</td>\n",
       "      <td>0.31063</td>\n",
       "      <td>0.255702</td>\n",
       "      <td>1.315219</td>\n",
       "      <td>1.29774</td>\n",
       "      <td>4.499847</td>\n",
       "      <td>16.602082</td>\n",
       "      <td>0.382046</td>\n",
       "      <td>0.017839</td>\n",
       "    </tr>\n",
       "    <tr>\n",
       "      <th>4</th>\n",
       "      <td>Pays Bas</td>\n",
       "      <td>1</td>\n",
       "      <td>2004</td>\n",
       "      <td>1</td>\n",
       "      <td>10.632253</td>\n",
       "      <td>0.482649</td>\n",
       "      <td>0.715303</td>\n",
       "      <td>0.056325</td>\n",
       "      <td>0.479844</td>\n",
       "      <td>0.34787</td>\n",
       "      <td>0.265702</td>\n",
       "      <td>1.335219</td>\n",
       "      <td>1.30060</td>\n",
       "      <td>4.512404</td>\n",
       "      <td>16.605557</td>\n",
       "      <td>0.374042</td>\n",
       "      <td>0.017890</td>\n",
       "    </tr>\n",
       "  </tbody>\n",
       "</table>\n",
       "</div>"
      ],
      "text/plain": [
       "    Country  id  Year   INCOME       LGDP       FPS       MPS       BBS  \\\n",
       "0  Pays Bas   1   2000       1  10.607994  0.620927  0.675303  0.016325   \n",
       "1  Pays Bas   1   2001       1  10.623448  0.509298  0.685303  0.026325   \n",
       "2  Pays Bas   1   2002       1  10.619236  0.498189  0.695303  0.036325   \n",
       "3  Pays Bas   1   2003       1  10.616073  0.484293  0.705303  0.046325   \n",
       "4  Pays Bas   1   2004       1  10.632253  0.482649  0.715303  0.056325   \n",
       "\n",
       "         IU      DDI      GFCF        TO    Labor      LCPI       LPOP  \\\n",
       "0  0.439844  0.39172  0.225702  1.255219  1.27381  4.406078  16.583433   \n",
       "1  0.449844  0.26795  0.235702  1.275219  1.28668  4.446796  16.590981   \n",
       "2  0.459844  0.29133  0.245702  1.295219  1.30062  4.479143  16.597364   \n",
       "3  0.469844  0.31063  0.255702  1.315219  1.29774  4.499847  16.602082   \n",
       "4  0.479844  0.34787  0.265702  1.335219  1.30060  4.512404  16.605557   \n",
       "\n",
       "     CONSUM        RD  \n",
       "0  0.364773  0.017898  \n",
       "1  0.369977  0.017961  \n",
       "2  0.372896  0.017454  \n",
       "3  0.382046  0.017839  \n",
       "4  0.374042  0.017890  "
      ]
     },
     "execution_count": 60,
     "metadata": {},
     "output_type": "execute_result"
    }
   ],
   "source": [
    "import pandas as pd\n",
    "\n",
    "# Excel 파일 읽기\n",
    "df = pd.read_csv('C:/Users/82106/Desktop/디지털화의 경제 영향도/데이터/processed_digitalization_data.csv')\n",
    "\n",
    "df.head()"
   ]
  },
  {
   "cell_type": "code",
   "execution_count": 37,
   "metadata": {},
   "outputs": [],
   "source": [
    "import numpy as np\n",
    "from sklearn.linear_model import LinearRegression\n",
    "from sklearn.model_selection import train_test_split\n",
    "from sklearn.preprocessing import StandardScaler"
   ]
  },
  {
   "cell_type": "markdown",
   "metadata": {},
   "source": [
    "### LGDP를 종속변수로 예측모델링"
   ]
  },
  {
   "cell_type": "code",
   "execution_count": 61,
   "metadata": {},
   "outputs": [],
   "source": [
    "# 필요한 특성 선택\n",
    "features = ['FPS', 'MPS', 'BBS', 'IU', 'DDI', 'GFCF', 'TO', 'Labor', 'LCPI', 'LPOP', 'CONSUM', 'RD']\n",
    "X = df[features]\n",
    "y = df['LGDP']\n",
    "\n",
    "# 학습용과 테스트용 데이터 분리\n",
    "X_train, X_test, y_train, y_test = train_test_split(X, y, test_size=0.2, random_state=42)"
   ]
  },
  {
   "cell_type": "code",
   "execution_count": 62,
   "metadata": {},
   "outputs": [
    {
     "name": "stdout",
     "output_type": "stream",
     "text": [
      "\n",
      "Linear Regression:\n",
      "Train R²: 0.8013\n",
      "Test R²: 0.8148\n",
      "\n",
      "SVR:\n",
      "Train R²: 0.7482\n",
      "Test R²: 0.7692\n",
      "\n",
      "Random Forest:\n",
      "Train R²: 0.9965\n",
      "Test R²: 0.9837\n",
      "\n",
      "Gradient Boosting:\n",
      "Train R²: 0.9553\n",
      "Test R²: 0.9412\n",
      "\n",
      "XGBoost:\n",
      "Train R²: 0.9997\n",
      "Test R²: 0.9828\n"
     ]
    }
   ],
   "source": [
    "from sklearn.svm import SVR\n",
    "from sklearn.ensemble import RandomForestRegressor\n",
    "from sklearn.ensemble import GradientBoostingRegressor\n",
    "from xgboost import XGBRegressor\n",
    "\n",
    "# 여러 모델 정의\n",
    "models = {\n",
    "    'Linear Regression': LinearRegression(),\n",
    "    'SVR': SVR(kernel='rbf'),\n",
    "    'Random Forest': RandomForestRegressor(n_estimators=100, random_state=42),\n",
    "    'Gradient Boosting': GradientBoostingRegressor(n_estimators=100, random_state=42),\n",
    "    'XGBoost': XGBRegressor(n_estimators=100, random_state=42)\n",
    "}\n",
    "\n",
    "# 각 모델 학습 및 성능 평가\n",
    "for name, model in models.items():\n",
    "    model.fit(X_train, y_train)\n",
    "    train_score = model.score(X_train, y_train)\n",
    "    test_score = model.score(X_test, y_test)\n",
    "    print(f'\\n{name}:')\n",
    "    print(f'Train R²: {train_score:.4f}')\n",
    "    print(f'Test R²: {test_score:.4f}')"
   ]
  },
  {
   "cell_type": "markdown",
   "metadata": {},
   "source": [
    "#### 가장 성능이 좋은 RandomForestRegressor 모델 선택"
   ]
  },
  {
   "cell_type": "code",
   "execution_count": 63,
   "metadata": {},
   "outputs": [
    {
     "name": "stdout",
     "output_type": "stream",
     "text": [
      "훈련 데이터 R² 점수: 0.9964892656892977\n",
      "테스트 데이터 R² 점수: 0.9836877038607016\n"
     ]
    }
   ],
   "source": [
    "# RandomForestRegressor 으로 모델 학습\n",
    "model = RandomForestRegressor(n_estimators=100, random_state=42)\n",
    "model.fit(X_train, y_train)\n",
    "\n",
    "# 모델 평가\n",
    "train_score = model.score(X_train, y_train)\n",
    "test_score = model.score(X_test, y_test)\n",
    "\n",
    "print('훈련 데이터 R² 점수:', train_score)\n",
    "print('테스트 데이터 R² 점수:', test_score)"
   ]
  },
  {
   "cell_type": "markdown",
   "metadata": {},
   "source": [
    "### 각 변수값에 따른 LGDP 변화 분석"
   ]
  },
  {
   "cell_type": "code",
   "execution_count": 73,
   "metadata": {},
   "outputs": [],
   "source": [
    "def analyze_variable_impact(variable_name, change_percentage):\n",
    "    # DataFrame으로 변환\n",
    "    X_test_df = pd.DataFrame(X_test, columns=features)\n",
    "    \n",
    "    # 테스트 데이터에 대해 분석 진행\n",
    "    X_test_modified = X_test_df.copy()\n",
    "    \n",
    "    # 특정 변수의 값을 변경\n",
    "    X_test_modified[variable_name] *= (1 + change_percentage/100)\n",
    "    \n",
    "    # 새로운 예측값과 원래 예측값 계산\n",
    "    original_predictions = model.predict(X_test_df)\n",
    "    new_predictions = model.predict(X_test_modified)\n",
    "    \n",
    "    # 변화율 계산\n",
    "    avg_change = np.mean(new_predictions - original_predictions)\n",
    "    percent_change = (avg_change / np.mean(original_predictions)) * 100\n",
    "\n",
    "    return avg_change, percent_change"
   ]
  },
  {
   "cell_type": "code",
   "execution_count": 74,
   "metadata": {},
   "outputs": [],
   "source": [
    "def analyze_multiple_variables(variables, changes):\n",
    "    results = {}\n",
    "    for var, change in zip(variables, changes):\n",
    "        abs_change, pct_change = analyze_variable_impact(var, change)\n",
    "        results[var] = {\n",
    "            '변화율': change, \n",
    "            'LGDP 절대 변화': abs_change, \n",
    "            'LGDP 상대 변화(%)': pct_change\n",
    "        }\n",
    "    \n",
    "    # 결과를 데이터프레임으로 변환\n",
    "    results_df = pd.DataFrame.from_dict(results, orient='index')\n",
    "    return results_df"
   ]
  },
  {
   "cell_type": "code",
   "execution_count": 96,
   "metadata": {},
   "outputs": [
    {
     "name": "stdout",
     "output_type": "stream",
     "text": [
      "\n",
      "종합 결과:\n",
      "        변화율  LGDP 절대 변화  LGDP 상대 변화(%)\n",
      "FPS      10    0.037637       0.431771\n",
      "MPS      10    0.006425       0.073706\n",
      "BBS      10    0.006962       0.079871\n",
      "IU       10    0.010041       0.115196\n",
      "DDI      10   -0.001136      -0.013029\n",
      "GFCF     10    0.001040       0.011930\n",
      "TO       10    0.004612       0.052913\n",
      "Labor    10    0.068371       0.784360\n",
      "LCPI     10    0.000033       0.000380\n",
      "LPOP     10   -0.032755      -0.375768\n",
      "CONSUM   10    0.006002       0.068858\n",
      "RD       10    0.007758       0.089004\n"
     ]
    }
   ],
   "source": [
    "# 테스트\n",
    "variables = ['FPS', 'MPS', 'BBS', 'IU', 'DDI', 'GFCF', 'TO', 'Labor', 'LCPI', 'LPOP', 'CONSUM', 'RD']\n",
    "changes = [10, 10, 10, 10, 10, 10, 10, 10, 10, 10, 10, 10]\n",
    "results = analyze_multiple_variables(variables, changes)\n",
    "print(\"\\n종합 결과:\")\n",
    "print(results)"
   ]
  },
  {
   "cell_type": "markdown",
   "metadata": {},
   "source": [
    "### 변수들을 동시에 변화시켜 LGDP 종합적인 변화"
   ]
  },
  {
   "cell_type": "code",
   "execution_count": 64,
   "metadata": {},
   "outputs": [],
   "source": [
    "def analyze_combined_impact(variables, changes):\n",
    "    # DataFrame으로 변환\n",
    "    X_test_df = pd.DataFrame(X_test, columns=features)\n",
    "    \n",
    "    # 테스트 데이터에 대해 분석 진행\n",
    "    X_test_modified = X_test_df.copy()\n",
    "    \n",
    "    # 모든 변수의 값을 동시에 변경\n",
    "    for var, change in zip(variables, changes):\n",
    "        X_test_modified[var] *= (1 + change/100)\n",
    "    \n",
    "    # 새로운 예측값과 원래 예측값 계산\n",
    "    original_predictions = model.predict(X_test_df)\n",
    "    new_predictions = model.predict(X_test_modified)\n",
    "    \n",
    "    # 변화율 계산\n",
    "    avg_change = np.mean(new_predictions - original_predictions)\n",
    "    percent_change = (avg_change / np.mean(original_predictions)) * 100\n",
    "    \n",
    "    print(\"변수들의 동시 변화:\")\n",
    "    for var, change in zip(variables, changes):\n",
    "        print(f\"{var}: {change}% 변화\")\n",
    "    print(f\"\\nLGDP 종합 변화:\")\n",
    "    print(f\"절대 변화량: {avg_change:.4f}\")\n",
    "    print(f\"상대 변화율: {percent_change:.4f}%\")\n",
    "    \n",
    "    return avg_change, percent_change"
   ]
  },
  {
   "cell_type": "markdown",
   "metadata": {},
   "source": [
    "### FPS를 10% 증가시켰을 때의 LGDP 변화"
   ]
  },
  {
   "cell_type": "code",
   "execution_count": 65,
   "metadata": {},
   "outputs": [
    {
     "name": "stdout",
     "output_type": "stream",
     "text": [
      "변수들의 동시 변화:\n",
      "FPS: 10% 변화\n",
      "MPS: 10% 변화\n",
      "IU: 10% 변화\n",
      "GFCF: 10% 변화\n",
      "\n",
      "LGDP 종합 변화:\n",
      "절대 변화량: 0.0543\n",
      "상대 변화율: 0.6229%\n"
     ]
    }
   ],
   "source": [
    "variables = ['FPS', 'MPS', 'IU', 'GFCF']\n",
    "changes = [50, 10, 10, 10]\n",
    "results = analyze_combined_impact(variables, changes)"
   ]
  },
  {
   "cell_type": "code",
   "execution_count": 97,
   "metadata": {},
   "outputs": [
    {
     "name": "stdout",
     "output_type": "stream",
     "text": [
      "변수들의 동시 변화:\n",
      "FPS: 50% 변화\n",
      "MPS: 10% 변화\n",
      "BBS: 10% 변화\n",
      "IU: 50% 변화\n",
      "DDI: 10% 변화\n",
      "GFCF: 10% 변화\n",
      "TO: 10% 변화\n",
      "Labor: 10% 변화\n",
      "LCPI: 10% 변화\n",
      "LPOP: 10% 변화\n",
      "CONSUM: 10% 변화\n",
      "RD: 50% 변화\n",
      "\n",
      "LGDP 종합 변화:\n",
      "절대 변화량: 0.3040\n",
      "상대 변화율: 3.4873%\n"
     ]
    }
   ],
   "source": [
    "variables = ['FPS', 'MPS', 'BBS', 'IU', 'DDI', 'GFCF', 'TO', 'Labor', 'LCPI', 'LPOP', 'CONSUM', 'RD']\n",
    "changes = [50,10,10,50,10,10,10,10,10,10,10,50]\n",
    "results = analyze_combined_impact(variables, changes)"
   ]
  },
  {
   "cell_type": "code",
   "execution_count": null,
   "metadata": {},
   "outputs": [],
   "source": []
  }
 ],
 "metadata": {
  "kernelspec": {
   "display_name": "base",
   "language": "python",
   "name": "python3"
  },
  "language_info": {
   "codemirror_mode": {
    "name": "ipython",
    "version": 3
   },
   "file_extension": ".py",
   "mimetype": "text/x-python",
   "name": "python",
   "nbconvert_exporter": "python",
   "pygments_lexer": "ipython3",
   "version": "3.9.12"
  }
 },
 "nbformat": 4,
 "nbformat_minor": 2
}
